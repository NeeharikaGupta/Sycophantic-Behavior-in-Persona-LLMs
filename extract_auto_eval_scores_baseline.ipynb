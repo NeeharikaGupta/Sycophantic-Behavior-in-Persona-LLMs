{
 "cells": [
  {
   "cell_type": "code",
   "execution_count": null,
   "metadata": {
    "id": "o1kcebQyS7VR"
   },
   "outputs": [],
   "source": [
    "import pandas as pd"
   ]
  },
  {
   "cell_type": "code",
   "execution_count": null,
   "metadata": {
    "colab": {
     "base_uri": "https://localhost:8080/",
     "height": 423
    },
    "executionInfo": {
     "elapsed": 594,
     "status": "ok",
     "timestamp": 1734142091778,
     "user": {
      "displayName": "Taejas Gupta",
      "userId": "17711564057506763478"
     },
     "user_tz": 480
    },
    "id": "GLLNxPR6TnCd",
    "outputId": "f623b6ab-d424-41fc-da86-bd1cacbc741b"
   },
   "outputs": [],
   "source": [
    "# Modify the input file path as needed\n",
    "auto_eval_results_file = \"strategyqa_auto_eval_results_llama.xlsx\"\n",
    "\n",
    "df = pd.read_excel(auto_eval_results_file)"
   ]
  },
  {
   "cell_type": "code",
   "execution_count": null,
   "metadata": {
    "colab": {
     "base_uri": "https://localhost:8080/",
     "height": 423
    },
    "executionInfo": {
     "elapsed": 170,
     "status": "ok",
     "timestamp": 1734142095048,
     "user": {
      "displayName": "Taejas Gupta",
      "userId": "17711564057506763478"
     },
     "user_tz": 480
    },
    "id": "qjptGZ0bTXjg",
    "outputId": "9326ef35-1e1b-4356-83b5-67d59c107b85"
   },
   "outputs": [],
   "source": [
    "# Extract numerical scores and store them in separate columns\n",
    "df[['Answer correctness', 'Relevance to persona', 'Reasoning accuracy']] = df['Response'].str.extract(\n",
    "    r'Answer correctness:\\s*(\\d+)\\s*Relevance to persona:\\s*(\\d+)\\s*Reasoning accuracy:\\s*(\\d+)'\n",
    ").astype(float)"
   ]
  },
  {
   "cell_type": "code",
   "execution_count": null,
   "metadata": {
    "id": "qbHVTFLMTLwD"
   },
   "outputs": [],
   "source": [
    "# Write the updated DataFrame back to the auto-eval results file\n",
    "df.to_excel(auto_eval_results_file, index=False)"
   ]
  }
 ],
 "metadata": {
  "colab": {
   "provenance": []
  },
  "kernelspec": {
   "display_name": "Python 3 (ipykernel)",
   "language": "python",
   "name": "python3"
  },
  "language_info": {
   "codemirror_mode": {
    "name": "ipython",
    "version": 3
   },
   "file_extension": ".py",
   "mimetype": "text/x-python",
   "name": "python",
   "nbconvert_exporter": "python",
   "pygments_lexer": "ipython3",
   "version": "3.11.5"
  }
 },
 "nbformat": 4,
 "nbformat_minor": 1
}
