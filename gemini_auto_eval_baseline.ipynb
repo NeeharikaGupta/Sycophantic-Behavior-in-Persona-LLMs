{
 "cells": [
  {
   "cell_type": "code",
   "execution_count": null,
   "metadata": {
    "id": "c4tKWyfeZa2E"
   },
   "outputs": [],
   "source": [
    "import os\n",
    "import time\n",
    "\n",
    "import pandas as pd\n",
    "import google.generativeai as genai\n",
    "from tqdm import tqdm"
   ]
  },
  {
   "cell_type": "code",
   "execution_count": null,
   "metadata": {
    "id": "psaeJ7pmZmuq"
   },
   "outputs": [],
   "source": [
    "# Replace with your own Gemini API key below\n",
    "gemini_api_key = \"<GEMINI_API_KEY>\"\n",
    "genai.configure(api_key=gemini_api_key)"
   ]
  },
  {
   "cell_type": "code",
   "execution_count": null,
   "metadata": {
    "id": "g6-NeoqGaOVt"
   },
   "outputs": [],
   "source": [
    "model = genai.GenerativeModel('gemini-pro')"
   ]
  },
  {
   "cell_type": "code",
   "execution_count": null,
   "metadata": {
    "id": "NhdrUBzJac-d"
   },
   "outputs": [],
   "source": [
    "# Rate-limiting parameters to throttle requests when querying Gemini\n",
    "REQUESTS_PER_MINUTE = 10\n",
    "DELAY_BETWEEN_REQUESTS = 60 / REQUESTS_PER_MINUTE\n",
    "\n",
    "def make_request(prompt, model):\n",
    "    response = model.generate_content(prompt)\n",
    "    return response.text"
   ]
  },
  {
   "cell_type": "code",
   "execution_count": null,
   "metadata": {
    "colab": {
     "base_uri": "https://localhost:8080/",
     "height": 424
    },
    "executionInfo": {
     "elapsed": 2034,
     "status": "ok",
     "timestamp": 1733938380336,
     "user": {
      "displayName": "Neeharika Gupta",
      "userId": "13434636909198909500"
     },
     "user_tz": -330
    },
    "id": "QL6eO26Qed3-",
    "outputId": "85e1f48b-5a47-44ba-ca23-8bb825a7fa6d"
   },
   "outputs": [],
   "source": [
    "# Modify the input file path as needed\n",
    "auto_eval_prompts_file = \"strategyqa_auto_eval_prompts_llama.xlsx\"\n",
    "\n",
    "prompts_df = pd.read_excel(auto_eval_prompts_file)\n",
    "prompts = prompts_df['Evaluation Prompt'].tolist()"
   ]
  },
  {
   "cell_type": "code",
   "execution_count": null,
   "metadata": {
    "colab": {
     "base_uri": "https://localhost:8080/",
     "height": 35
    },
    "executionInfo": {
     "elapsed": 839872,
     "status": "ok",
     "timestamp": 1733939238672,
     "user": {
      "displayName": "Neeharika Gupta",
      "userId": "13434636909198909500"
     },
     "user_tz": -330
    },
    "id": "fbrnhkXreeSf",
    "outputId": "93da00aa-c5ae-4f9a-88fe-01b3b42e3541"
   },
   "outputs": [],
   "source": [
    "# Query Gemini for auto-evaluation results\n",
    "responses = []\n",
    "for prompt in tqdm(prompts):\n",
    "    response_text = make_request(prompt, model)\n",
    "    responses.append(response_text)\n",
    "    time.sleep(DELAY_BETWEEN_REQUESTS)"
   ]
  },
  {
   "cell_type": "code",
   "execution_count": null,
   "metadata": {
    "id": "T-8E84ujeouH"
   },
   "outputs": [],
   "source": [
    "# Modify the output file path as needed\n",
    "auto_eval_results_file = \"strategyqa_auto_eval_results_llama.xlsx\"\n",
    "\n",
    "responses_df = pd.DataFrame({'Response': responses})\n",
    "responses_df.to_excel(auto_eval_results_file, index=False)"
   ]
  }
 ],
 "metadata": {
  "colab": {
   "provenance": []
  },
  "kernelspec": {
   "display_name": "Python 3 (ipykernel)",
   "language": "python",
   "name": "python3"
  },
  "language_info": {
   "codemirror_mode": {
    "name": "ipython",
    "version": 3
   },
   "file_extension": ".py",
   "mimetype": "text/x-python",
   "name": "python",
   "nbconvert_exporter": "python",
   "pygments_lexer": "ipython3",
   "version": "3.11.5"
  }
 },
 "nbformat": 4,
 "nbformat_minor": 1
}
