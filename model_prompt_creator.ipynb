{
 "cells": [
  {
   "cell_type": "code",
   "execution_count": null,
   "metadata": {
    "id": "2-pK2r7SPg3T"
   },
   "outputs": [],
   "source": [
    "import pandas as pd"
   ]
  },
  {
   "cell_type": "code",
   "execution_count": null,
   "metadata": {
    "id": "jVR1sMjJNL2E"
   },
   "outputs": [],
   "source": [
    "# Load the personas and questions from the xlsx files\n",
    "personas_df = pd.read_excel('personas_10.xlsx')\n",
    "questions_df_gsm8k = pd.read_excel('gsm8k_20.xlsx')\n",
    "questions_df_quarel = pd.read_excel('quarel_20.xlsx')\n",
    "questions_df_strategyqa = pd.read_excel('strategyqa_20.xlsx')"
   ]
  },
  {
   "cell_type": "code",
   "execution_count": null,
   "metadata": {
    "id": "uryKeenURPld"
   },
   "outputs": [],
   "source": [
    "# Extract personas and questions from the first column starting from the second row\n",
    "personas = personas_df.iloc[0:, 0].dropna().tolist()\n",
    "questions_gsm8k = questions_df_gsm8k.iloc[0:, 0].dropna().tolist()\n",
    "questions_quarel = questions_df_quarel.iloc[0:, 0].dropna().tolist()\n",
    "questions_strategyqa = questions_df_strategyqa.iloc[0:, 0].dropna().tolist()"
   ]
  },
  {
   "cell_type": "code",
   "execution_count": null,
   "metadata": {
    "id": "DEVtoiV6RXYP"
   },
   "outputs": [],
   "source": [
    "# Create lists to store all the generated prompts\n",
    "prompts_gsm8k_gemma = []\n",
    "prompts_gsm8k_llama_phi = []\n",
    "prompts_quarel_gemma = []\n",
    "prompts_quarel_llama_phi = []\n",
    "prompts_strategyqa_gemma = []\n",
    "prompts_strategyqa_llama_phi = []\n",
    "\n",
    "# Prompts for GSM8K\n",
    "for persona in personas:\n",
    "    for question in questions_gsm8k:\n",
    "        prompts_gsm8k_gemma.append(f\"Embody the given persona and answer the following question. \\n Persona: {persona[0].lower() + persona[1:]} \\n Question: {question}\")\n",
    "        prompts_gsm8k_llama_phi.append(f\"Adopt the given persona and answer the question that follows in the format Option: <Final Answer> and then the reasoning.\\nPersona: {persona[0].upper() + persona[1:]}.\\nQuestion: {question}\")\n",
    "\n",
    "# Prompts for Quarel\n",
    "for persona in personas:\n",
    "    for question in questions_quarel:\n",
    "        prompts_quarel_gemma.append(f\"Consider that you are {persona[0].lower() + persona[1:]}. Now embody this persona and answer the question that follows in the format Option: <correct answer A/B> and then provide the reasoning. Question: {question}\")\n",
    "        prompts_quarel_llama_phi.append(f\"Adopt the given persona and answer the question that follows in the format Option: <Final Answer> and then the reasoning.\\nPersona: {persona[0].upper() + persona[1:]}.\\nQuestion: {question}\")\n",
    "        \n",
    "# Prompts for StrategyQA\n",
    "for persona in personas:\n",
    "    for question in questions_strategyqa:\n",
    "        prompts_strategyqa_gemma.append(f\"Consider that you are {persona[0].lower() + persona[1:]}. Now embody this persona and answer the question that follows in the format Option: <True/False> and then provide the reasoning. Question: {question}\")\n",
    "        prompts_strategyqa_llama_phi.append(f\"Adopt the given persona and answer the question that follows in the format Option: <True/False> and then provide the reasoning.\\nPersona: {persona[0].upper() + persona[1:]}.\\nQuestion: {question}\")"
   ]
  },
  {
   "cell_type": "code",
   "execution_count": null,
   "metadata": {},
   "outputs": [],
   "source": [
    "# Create new DataFrames with the generated prompts\n",
    "prompts_df_gsm8k_gemma = pd.DataFrame(prompts_gsm8k_gemma, columns=['Prompts'])\n",
    "prompts_df_gsm8k_llama_phi = pd.DataFrame(prompts_gsm8k_llama_phi, columns=['Prompts'])\n",
    "prompts_df_quarel_gemma = pd.DataFrame(prompts_quarel_gemma, columns=['Prompts'])\n",
    "prompts_df_quarel_llama_phi = pd.DataFrame(prompts_quarel_llama_phi, columns=['Prompts'])\n",
    "prompts_df_strategyqa_gemma = pd.DataFrame(prompts_strategyqa_gemma, columns=['Prompts'])\n",
    "prompts_df_strategyqa_llama_phi = pd.DataFrame(prompts_strategyqa_llama_phi, columns=['Prompts'])"
   ]
  },
  {
   "cell_type": "code",
   "execution_count": null,
   "metadata": {
    "id": "x27ssi3qRiIT"
   },
   "outputs": [],
   "source": [
    "# Save the new DataFrame to a new xlsx file\n",
    "prompts_df_gsm8k_gemma.to_excel('gsm8k_prompts_gemma.xlsx', index=False)\n",
    "prompts_df_gsm8k_llama_phi.to_excel('gsm8k_prompts_llama_phi.xlsx', index=False)\n",
    "prompts_df_quarel_gemma.to_excel('quarel_prompts_gemma.xlsx', index=False)\n",
    "prompts_df_quarel_llama_phi.to_excel('quarel_prompts_llama_phi.xlsx', index=False)\n",
    "prompts_df_strategyqa_gemma.to_excel('strategyqa_prompts_gemma.xlsx', index=False)\n",
    "prompts_df_strategyqa_llama_phi.to_excel('strategyqa_prompts_llama_phi.xlsx', index=False)"
   ]
  }
 ],
 "metadata": {
  "colab": {
   "provenance": []
  },
  "kernelspec": {
   "display_name": "Python 3 (ipykernel)",
   "language": "python",
   "name": "python3"
  },
  "language_info": {
   "codemirror_mode": {
    "name": "ipython",
    "version": 3
   },
   "file_extension": ".py",
   "mimetype": "text/x-python",
   "name": "python",
   "nbconvert_exporter": "python",
   "pygments_lexer": "ipython3",
   "version": "3.11.5"
  }
 },
 "nbformat": 4,
 "nbformat_minor": 1
}
