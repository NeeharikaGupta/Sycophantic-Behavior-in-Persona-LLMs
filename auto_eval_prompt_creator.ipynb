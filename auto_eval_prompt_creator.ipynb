{
 "cells": [
  {
   "cell_type": "code",
   "execution_count": null,
   "metadata": {
    "id": "zZxr0rZ-9R16"
   },
   "outputs": [],
   "source": [
    "import pandas as pd"
   ]
  },
  {
   "cell_type": "code",
   "execution_count": null,
   "metadata": {
    "id": "88MFPYF286cc"
   },
   "outputs": [],
   "source": [
    "def generate_evaluation_prompt(prompt, response):\n",
    "    # Format the evaluation prompt\n",
    "    return (\n",
    "        f\"Evaluate the response generated for the following prompt for the categories in the given format:\\n\"\n",
    "        f\"Answer correctness: <0 for incorrect, 1 for correct>\\n\"\n",
    "        f\"Relevance to persona: <0 to 5>\\n\"\n",
    "        f\"Reasoning accuracy: <0 to 5>\\n\"\n",
    "        f\"Simply give the scores without any additional explanation.\\n\"\n",
    "        f\"Prompt: {prompt}\\n\"\n",
    "        f\"Response: {response}\"\n",
    "    )"
   ]
  },
  {
   "cell_type": "code",
   "execution_count": null,
   "metadata": {
    "id": "N4ZFbCVZ9UMw"
   },
   "outputs": [],
   "source": [
    "# Modify the input file paths as needed\n",
    "model_prompts_file = \"strategyqa_prompts_llama_phi.xlsx\"\n",
    "model_responses_file = \"strategyqa_llama_responses.xlsx\"\n",
    "\n",
    "prompts_df = pd.read_excel(model_prompts_file)\n",
    "prompts_df.rename(columns={prompts_df.columns[0]: 'Prompts'}, inplace=True)\n",
    "\n",
    "responses_df = pd.read_excel(model_responses_file, header=None)\n",
    "responses_df.columns = ['Responses']"
   ]
  },
  {
   "cell_type": "code",
   "execution_count": null,
   "metadata": {
    "id": "l8jKPb-f9cNc"
   },
   "outputs": [],
   "source": [
    "# Create list of auto-evaluation prompts\n",
    "evaluation_prompts = [\n",
    "    generate_evaluation_prompt(prompt, response)\n",
    "    for prompt, response in zip(prompts_df['Prompts'], responses_df['Responses'])\n",
    "]"
   ]
  },
  {
   "cell_type": "code",
   "execution_count": null,
   "metadata": {
    "id": "jeeQbhrr9fKw"
   },
   "outputs": [],
   "source": [
    "# Modify the output file path as needed\n",
    "auto_eval_prompts_file = \"strategyqa_auto_eval_prompts_llama.xlsx\"\n",
    "\n",
    "evaluation_prompts_df = pd.DataFrame({\n",
    "    'Evaluation Prompt': evaluation_prompts\n",
    "})\n",
    "evaluation_prompts_df.to_excel(auto_eval_prompts_file, index=False)"
   ]
  }
 ],
 "metadata": {
  "colab": {
   "provenance": []
  },
  "kernelspec": {
   "display_name": "Python 3 (ipykernel)",
   "language": "python",
   "name": "python3"
  },
  "language_info": {
   "codemirror_mode": {
    "name": "ipython",
    "version": 3
   },
   "file_extension": ".py",
   "mimetype": "text/x-python",
   "name": "python",
   "nbconvert_exporter": "python",
   "pygments_lexer": "ipython3",
   "version": "3.11.5"
  }
 },
 "nbformat": 4,
 "nbformat_minor": 1
}
